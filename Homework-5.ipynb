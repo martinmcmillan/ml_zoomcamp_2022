{
 "cells": [
  {
   "cell_type": "code",
   "execution_count": 3,
   "id": "69937fec",
   "metadata": {},
   "outputs": [],
   "source": [
    "import pickle\n",
    "import numpy as np\n",
    "import requests"
   ]
  },
  {
   "cell_type": "code",
   "execution_count": 4,
   "id": "0010ef45",
   "metadata": {},
   "outputs": [],
   "source": [
    "def predict_single(customer, dv, model):\n",
    "    X = dv.transform([customer])\n",
    "    y_pred = model.predict_proba(X)[:, 1]\n",
    "    return y_pred[0]"
   ]
  },
  {
   "cell_type": "code",
   "execution_count": 5,
   "id": "d80db873",
   "metadata": {},
   "outputs": [
    {
     "name": "stderr",
     "output_type": "stream",
     "text": [
      "/home/martin/anaconda3/envs/ml-zoomcamp/lib/python3.10/site-packages/sklearn/base.py:329: UserWarning: Trying to unpickle estimator LogisticRegression from version 1.0.2 when using version 1.1.2. This might lead to breaking code or invalid results. Use at your own risk. For more info please refer to:\n",
      "https://scikit-learn.org/stable/model_persistence.html#security-maintainability-limitations\n",
      "  warnings.warn(\n"
     ]
    }
   ],
   "source": [
    "with open('model1.bin', 'rb') as f_in:\n",
    "    model = pickle.load(f_in)"
   ]
  },
  {
   "cell_type": "code",
   "execution_count": 6,
   "id": "1b7957b4",
   "metadata": {},
   "outputs": [
    {
     "name": "stderr",
     "output_type": "stream",
     "text": [
      "/home/martin/anaconda3/envs/ml-zoomcamp/lib/python3.10/site-packages/sklearn/base.py:329: UserWarning: Trying to unpickle estimator DictVectorizer from version 1.0.2 when using version 1.1.2. This might lead to breaking code or invalid results. Use at your own risk. For more info please refer to:\n",
      "https://scikit-learn.org/stable/model_persistence.html#security-maintainability-limitations\n",
      "  warnings.warn(\n"
     ]
    }
   ],
   "source": [
    "with open('dv.bin', 'rb') as f_in:\n",
    "    dv = pickle.load(f_in)"
   ]
  },
  {
   "cell_type": "code",
   "execution_count": 7,
   "id": "9046ef08",
   "metadata": {},
   "outputs": [],
   "source": [
    "def predict():\n",
    "    prediction = predict_single(customer, dv, model)\n",
    "    score = prediction >= 0.5\n",
    "\n",
    "    result = {\n",
    "        'score': bool(score),\n",
    "        'score_probability': float(prediction),\n",
    "    }\n",
    "\n",
    "    return result"
   ]
  },
  {
   "cell_type": "code",
   "execution_count": 8,
   "id": "421365bd",
   "metadata": {},
   "outputs": [],
   "source": [
    "customer = {\"reports\": 0, \"share\": 0.001694, \"expenditure\": 0.12, \"owner\": \"yes\"}"
   ]
  },
  {
   "cell_type": "code",
   "execution_count": 9,
   "id": "9e825304",
   "metadata": {},
   "outputs": [
    {
     "data": {
      "text/plain": [
       "{'score': False, 'score_probability': 0.16213414434326598}"
      ]
     },
     "execution_count": 9,
     "metadata": {},
     "output_type": "execute_result"
    }
   ],
   "source": [
    "predict()"
   ]
  },
  {
   "cell_type": "code",
   "execution_count": 10,
   "id": "6799b47d",
   "metadata": {},
   "outputs": [
    {
     "data": {
      "text/plain": [
       "\"\\nfrom flask import Flask, request, jsonify\\n\\napp = Flask('score')\\n\\n@app.route('/predict', methods=['POST'])\\ndef predict():\\n    customer = request.get_json()\\n\\n    prediction = predict_single(customer, dv, model)\\n    score = prediction >= 0.5\\n\\n    result = {\\n        'score': bool(score),\\n        'score_probability': float(prediction),\\n    }\\n\\n    return jsonify(result)\\n\\napp.run(debug=True, host='0.0.0.0', port=9696)\\n\""
      ]
     },
     "execution_count": 10,
     "metadata": {},
     "output_type": "execute_result"
    }
   ],
   "source": [
    "'''\n",
    "from flask import Flask, request, jsonify\n",
    "\n",
    "app = Flask('score')\n",
    "\n",
    "@app.route('/predict', methods=['POST'])\n",
    "def predict():\n",
    "    customer = request.get_json()\n",
    "\n",
    "    prediction = predict_single(customer, dv, model)\n",
    "    score = prediction >= 0.5\n",
    "\n",
    "    result = {\n",
    "        'score': bool(score),\n",
    "        'score_probability': float(prediction),\n",
    "    }\n",
    "\n",
    "    return jsonify(result)\n",
    "\n",
    "app.run(debug=True, host='0.0.0.0', port=9696)\n",
    "'''"
   ]
  },
  {
   "cell_type": "code",
   "execution_count": null,
   "id": "07402251",
   "metadata": {},
   "outputs": [],
   "source": [
    "'''\n",
    "FROM svizor/zoomcamp-model:3.9.12-slim\n",
    "\n",
    "ENV PYTHONUNBUFFERED=TRUE\n",
    "\n",
    "RUN pip --no-cache-dir install pipenv\n",
    "\n",
    "WORKDIR /app\n",
    "\n",
    "COPY [\"Pipfile\", \"Pipfile.lock\", \"./\"]\n",
    "RUN pipenv install --deploy --system && \\\n",
    "    rm -rf /root/.cache\n",
    "\n",
    "COPY [\"*.py\", \"model1.bin\", \"dv.bin\", \"./\"]\n",
    "\n",
    "EXPOSE 9696\n",
    "\n",
    "ENTRYPOINT [\"gunicorn\", \"--bind\", \"0.0.0.0:9696\", \"score_serving:app\"] \n",
    "\n",
    "'''"
   ]
  },
  {
   "cell_type": "code",
   "execution_count": null,
   "id": "63284336",
   "metadata": {},
   "outputs": [],
   "source": [
    "'''\n",
    "docker build -t churn-prediction .\n",
    "\n",
    "docker run -it -p 9696:9696 churn-prediction:latest\n",
    "'''"
   ]
  },
  {
   "cell_type": "code",
   "execution_count": 11,
   "id": "df5f0f4d",
   "metadata": {},
   "outputs": [],
   "source": [
    "customer = {\"reports\": 0, \"share\": 0.245, \"expenditure\": 3.438, \"owner\": \"yes\"}"
   ]
  },
  {
   "cell_type": "code",
   "execution_count": 12,
   "id": "ed2e4e71",
   "metadata": {},
   "outputs": [
    {
     "data": {
      "text/plain": [
       "{'score': True, 'score_probability': 0.9282218018527452}"
      ]
     },
     "execution_count": 12,
     "metadata": {},
     "output_type": "execute_result"
    }
   ],
   "source": [
    "url = 'http://localhost:9696/predict'\n",
    "response = requests.post(url, json=customer)\n",
    "result = response.json()\n",
    "result"
   ]
  },
  {
   "cell_type": "code",
   "execution_count": null,
   "id": "7e0582eb",
   "metadata": {},
   "outputs": [],
   "source": []
  }
 ],
 "metadata": {
  "kernelspec": {
   "display_name": "Python 3 (ipykernel)",
   "language": "python",
   "name": "python3"
  },
  "language_info": {
   "codemirror_mode": {
    "name": "ipython",
    "version": 3
   },
   "file_extension": ".py",
   "mimetype": "text/x-python",
   "name": "python",
   "nbconvert_exporter": "python",
   "pygments_lexer": "ipython3",
   "version": "3.10.5"
  }
 },
 "nbformat": 4,
 "nbformat_minor": 5
}
