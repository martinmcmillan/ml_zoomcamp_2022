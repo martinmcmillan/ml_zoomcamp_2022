{
 "cells": [
  {
   "cell_type": "code",
   "execution_count": 84,
   "id": "80098239",
   "metadata": {},
   "outputs": [],
   "source": [
    "import numpy as np\n",
    "import pandas as pd"
   ]
  },
  {
   "cell_type": "code",
   "execution_count": 85,
   "id": "cdfd54e3",
   "metadata": {},
   "outputs": [
    {
     "data": {
      "text/plain": [
       "'1.23.2'"
      ]
     },
     "execution_count": 85,
     "metadata": {},
     "output_type": "execute_result"
    }
   ],
   "source": [
    "np.__version__"
   ]
  },
  {
   "cell_type": "code",
   "execution_count": 86,
   "id": "99b4daae",
   "metadata": {},
   "outputs": [
    {
     "name": "stdout",
     "output_type": "stream",
     "text": [
      "--2022-09-11 16:59:26--  https://raw.githubusercontent.com/alexeygrigorev/mlbookcamp-code/master/chapter-02-car-price/data.csv\n",
      "Resolving raw.githubusercontent.com (raw.githubusercontent.com)... 185.199.108.133, 185.199.109.133, 185.199.110.133, ...\n",
      "Connecting to raw.githubusercontent.com (raw.githubusercontent.com)|185.199.108.133|:443... connected.\n",
      "HTTP request sent, awaiting response... 200 OK\n",
      "Length: 1475504 (1.4M) [text/plain]\n",
      "Saving to: ‘hw-1.csv’\n",
      "\n",
      "hw-1.csv            100%[===================>]   1.41M  4.00MB/s    in 0.4s    \n",
      "\n",
      "2022-09-11 16:59:27 (4.00 MB/s) - ‘hw-1.csv’ saved [1475504/1475504]\n",
      "\n"
     ]
    }
   ],
   "source": [
    "!wget https://raw.githubusercontent.com/alexeygrigorev/mlbookcamp-code/master/chapter-02-car-price/data.csv -O hw-1.csv"
   ]
  },
  {
   "cell_type": "code",
   "execution_count": 87,
   "id": "d2a0df15",
   "metadata": {},
   "outputs": [],
   "source": [
    "df = pd.read_csv('hw-1.csv')"
   ]
  },
  {
   "cell_type": "code",
   "execution_count": 88,
   "id": "f9d7e86a",
   "metadata": {},
   "outputs": [
    {
     "name": "stdout",
     "output_type": "stream",
     "text": [
      "<class 'pandas.core.frame.DataFrame'>\n",
      "RangeIndex: 11914 entries, 0 to 11913\n",
      "Data columns (total 16 columns):\n",
      " #   Column             Non-Null Count  Dtype  \n",
      "---  ------             --------------  -----  \n",
      " 0   Make               11914 non-null  object \n",
      " 1   Model              11914 non-null  object \n",
      " 2   Year               11914 non-null  int64  \n",
      " 3   Engine Fuel Type   11911 non-null  object \n",
      " 4   Engine HP          11845 non-null  float64\n",
      " 5   Engine Cylinders   11884 non-null  float64\n",
      " 6   Transmission Type  11914 non-null  object \n",
      " 7   Driven_Wheels      11914 non-null  object \n",
      " 8   Number of Doors    11908 non-null  float64\n",
      " 9   Market Category    8172 non-null   object \n",
      " 10  Vehicle Size       11914 non-null  object \n",
      " 11  Vehicle Style      11914 non-null  object \n",
      " 12  highway MPG        11914 non-null  int64  \n",
      " 13  city mpg           11914 non-null  int64  \n",
      " 14  Popularity         11914 non-null  int64  \n",
      " 15  MSRP               11914 non-null  int64  \n",
      "dtypes: float64(3), int64(5), object(8)\n",
      "memory usage: 1.5+ MB\n"
     ]
    }
   ],
   "source": [
    "df.info()"
   ]
  },
  {
   "cell_type": "code",
   "execution_count": 89,
   "id": "949bdcd8",
   "metadata": {},
   "outputs": [
    {
     "data": {
      "text/plain": [
       "Chevrolet        1123\n",
       "Ford              881\n",
       "Volkswagen        809\n",
       "Toyota            746\n",
       "Dodge             626\n",
       "Nissan            558\n",
       "GMC               515\n",
       "Honda             449\n",
       "Mazda             423\n",
       "Cadillac          397\n",
       "Mercedes-Benz     353\n",
       "Suzuki            351\n",
       "BMW               334\n",
       "Infiniti          330\n",
       "Audi              328\n",
       "Hyundai           303\n",
       "Volvo             281\n",
       "Subaru            256\n",
       "Acura             252\n",
       "Kia               231\n",
       "Mitsubishi        213\n",
       "Lexus             202\n",
       "Buick             196\n",
       "Chrysler          187\n",
       "Pontiac           186\n",
       "Lincoln           164\n",
       "Oldsmobile        150\n",
       "Land Rover        143\n",
       "Porsche           136\n",
       "Saab              111\n",
       "Aston Martin       93\n",
       "Plymouth           82\n",
       "Bentley            74\n",
       "Ferrari            69\n",
       "FIAT               62\n",
       "Scion              60\n",
       "Maserati           58\n",
       "Lamborghini        52\n",
       "Rolls-Royce        31\n",
       "Lotus              29\n",
       "Tesla              18\n",
       "HUMMER             17\n",
       "Maybach            16\n",
       "Alfa Romeo          5\n",
       "McLaren             5\n",
       "Spyker              3\n",
       "Genesis             3\n",
       "Bugatti             3\n",
       "Name: Make, dtype: int64"
      ]
     },
     "execution_count": 89,
     "metadata": {},
     "output_type": "execute_result"
    }
   ],
   "source": [
    "df.Make.value_counts(dropna=False)"
   ]
  },
  {
   "cell_type": "code",
   "execution_count": 90,
   "id": "e4f93ce8",
   "metadata": {},
   "outputs": [
    {
     "data": {
      "text/plain": [
       "34"
      ]
     },
     "execution_count": 90,
     "metadata": {},
     "output_type": "execute_result"
    }
   ],
   "source": [
    "df[df.Make=='Audi'].Model.value_counts(dropna=False).count()"
   ]
  },
  {
   "cell_type": "code",
   "execution_count": 91,
   "id": "2db6e162",
   "metadata": {},
   "outputs": [
    {
     "name": "stdout",
     "output_type": "stream",
     "text": [
      "Make                    0\n",
      "Model                   0\n",
      "Year                    0\n",
      "Engine Fuel Type        3\n",
      "Engine HP              69\n",
      "Engine Cylinders       30\n",
      "Transmission Type       0\n",
      "Driven_Wheels           0\n",
      "Number of Doors         6\n",
      "Market Category      3742\n",
      "Vehicle Size            0\n",
      "Vehicle Style           0\n",
      "highway MPG             0\n",
      "city mpg                0\n",
      "Popularity              0\n",
      "MSRP                    0\n",
      "dtype: int64\n",
      "5\n",
      "5\n"
     ]
    }
   ],
   "source": [
    "out=df.isnull().sum()\n",
    "print(out)\n",
    "num=0\n",
    "for i in range(out.count()):\n",
    "    if out[i] != 0:\n",
    "        num+=1\n",
    "print(num)\n",
    "print((out != 0).sum())"
   ]
  },
  {
   "cell_type": "code",
   "execution_count": 92,
   "id": "48265426",
   "metadata": {},
   "outputs": [
    {
     "data": {
      "text/plain": [
       "5"
      ]
     },
     "execution_count": 92,
     "metadata": {},
     "output_type": "execute_result"
    }
   ],
   "source": [
    "((df.isnull().sum())!=0).sum()"
   ]
  },
  {
   "cell_type": "code",
   "execution_count": 93,
   "id": "aefa68eb",
   "metadata": {},
   "outputs": [
    {
     "data": {
      "text/plain": [
       "6.0"
      ]
     },
     "execution_count": 93,
     "metadata": {},
     "output_type": "execute_result"
    }
   ],
   "source": [
    "df[\"Engine Cylinders\"].median()"
   ]
  },
  {
   "cell_type": "code",
   "execution_count": 94,
   "id": "05381032",
   "metadata": {},
   "outputs": [
    {
     "data": {
      "text/plain": [
       "0    4.0\n",
       "Name: Engine Cylinders, dtype: float64"
      ]
     },
     "execution_count": 94,
     "metadata": {},
     "output_type": "execute_result"
    }
   ],
   "source": [
    "mode=df[\"Engine Cylinders\"].mode()\n",
    "mode"
   ]
  },
  {
   "cell_type": "code",
   "execution_count": 95,
   "id": "604e1af0",
   "metadata": {},
   "outputs": [
    {
     "data": {
      "text/plain": [
       "4.0     4752\n",
       "6.0     4489\n",
       "8.0     2031\n",
       "12.0     230\n",
       "5.0      225\n",
       "10.0      68\n",
       "0.0       56\n",
       "3.0       30\n",
       "16.0       3\n",
       "Name: Engine Cylinders, dtype: int64"
      ]
     },
     "execution_count": 95,
     "metadata": {},
     "output_type": "execute_result"
    }
   ],
   "source": [
    "df[\"Engine Cylinders\"].value_counts()"
   ]
  },
  {
   "cell_type": "code",
   "execution_count": 96,
   "id": "15c63ae1",
   "metadata": {},
   "outputs": [
    {
     "data": {
      "text/plain": [
       "0        6.0\n",
       "1        6.0\n",
       "2        6.0\n",
       "3        6.0\n",
       "4        6.0\n",
       "        ... \n",
       "11909    6.0\n",
       "11910    6.0\n",
       "11911    6.0\n",
       "11912    6.0\n",
       "11913    6.0\n",
       "Name: Engine Cylinders, Length: 11914, dtype: float64"
      ]
     },
     "execution_count": 96,
     "metadata": {},
     "output_type": "execute_result"
    }
   ],
   "source": [
    "df[\"Engine Cylinders\"].fillna(mode)"
   ]
  },
  {
   "cell_type": "code",
   "execution_count": 98,
   "id": "394cf034",
   "metadata": {},
   "outputs": [
    {
     "data": {
      "text/plain": [
       "6.0"
      ]
     },
     "execution_count": 98,
     "metadata": {},
     "output_type": "execute_result"
    }
   ],
   "source": [
    "df[\"Engine Cylinders\"].median()"
   ]
  },
  {
   "cell_type": "code",
   "execution_count": 99,
   "id": "af1a2c1d",
   "metadata": {},
   "outputs": [],
   "source": [
    "df_L = df[df.Make == \"Lotus\"]\n",
    "df_L = df_L[[\"Engine HP\", \"Engine Cylinders\"]]\n",
    "df_L = df_L.drop_duplicates()"
   ]
  },
  {
   "cell_type": "code",
   "execution_count": 100,
   "id": "9eee85d9",
   "metadata": {},
   "outputs": [
    {
     "name": "stdout",
     "output_type": "stream",
     "text": [
      "<class 'pandas.core.frame.DataFrame'>\n",
      "Int64Index: 9 entries, 3912 to 4293\n",
      "Data columns (total 2 columns):\n",
      " #   Column            Non-Null Count  Dtype  \n",
      "---  ------            --------------  -----  \n",
      " 0   Engine HP         9 non-null      float64\n",
      " 1   Engine Cylinders  9 non-null      float64\n",
      "dtypes: float64(2)\n",
      "memory usage: 216.0 bytes\n"
     ]
    }
   ],
   "source": [
    "df_L.info()"
   ]
  },
  {
   "cell_type": "code",
   "execution_count": 106,
   "id": "1688e9ca",
   "metadata": {},
   "outputs": [
    {
     "name": "stdout",
     "output_type": "stream",
     "text": [
      "[[189.   4.]\n",
      " [218.   4.]\n",
      " [217.   4.]\n",
      " [350.   8.]\n",
      " [400.   6.]\n",
      " [276.   6.]\n",
      " [345.   6.]\n",
      " [257.   4.]\n",
      " [240.   4.]]\n",
      "[[7.31684e+05 1.34100e+04]\n",
      " [1.34100e+04 2.52000e+02]]\n",
      "[[ 5.53084235e-05 -2.94319825e-03]\n",
      " [-2.94319825e-03  1.60588447e-01]]\n"
     ]
    }
   ],
   "source": [
    "X = df_L.values\n",
    "print(X)\n",
    "XTX = X.T.dot(X)\n",
    "print(XTX)\n",
    "XTX_inv = np.linalg.inv(XTX)\n",
    "print(XTX_inv)"
   ]
  },
  {
   "cell_type": "code",
   "execution_count": 111,
   "id": "ca6ce0d5",
   "metadata": {},
   "outputs": [
    {
     "data": {
      "text/plain": [
       "4.594944810094551"
      ]
     },
     "execution_count": 111,
     "metadata": {},
     "output_type": "execute_result"
    }
   ],
   "source": [
    "y = [1100, 800, 750, 850, 1300, 1000, 1000, 1300, 800]\n",
    "w = XTX_inv.dot(X.T).dot(y)\n",
    "w[0]"
   ]
  },
  {
   "cell_type": "code",
   "execution_count": null,
   "id": "e1574646",
   "metadata": {},
   "outputs": [],
   "source": []
  }
 ],
 "metadata": {
  "kernelspec": {
   "display_name": "Python 3 (ipykernel)",
   "language": "python",
   "name": "python3"
  },
  "language_info": {
   "codemirror_mode": {
    "name": "ipython",
    "version": 3
   },
   "file_extension": ".py",
   "mimetype": "text/x-python",
   "name": "python",
   "nbconvert_exporter": "python",
   "pygments_lexer": "ipython3",
   "version": "3.10.5"
  }
 },
 "nbformat": 4,
 "nbformat_minor": 5
}
